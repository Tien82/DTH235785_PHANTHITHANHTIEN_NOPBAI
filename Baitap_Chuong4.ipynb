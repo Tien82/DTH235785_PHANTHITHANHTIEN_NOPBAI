{
 "cells": [
  {
   "cell_type": "code",
   "execution_count": 1,
   "id": "e28ac9a2",
   "metadata": {},
   "outputs": [
    {
     "name": "stdout",
     "output_type": "stream",
     "text": [
      "Chương trình tính diện tích Tam Giác\n",
      "Diện tích = 9.921567416492215\n"
     ]
    }
   ],
   "source": [
    "#Câu 1\n",
    "from math import sqrt\n",
    "print(\"Chương trình tính diện tích Tam Giác\")\n",
    "a = float(input(\"Nhập độ dài cạnh a>0: \"))\n",
    "b = float(input(\"Nhập độ dài cạnh b>0: \"))\n",
    "c = float(input(\"Nhập độ dài cạnh c>0: \"))\n",
    "if (a <= 0 or b <= 0 or c <= 0) or (a + b <= c or a + c <= b or b + c <= a):\n",
    "    print(\"Tam giác không hợp lệ\")\n",
    "else:\n",
    "    cv= a + b + c\n",
    "    p = cv / 2\n",
    "    dt=sqrt(p * (p - a) * (p - b) * (p -c))\n",
    "    print(\"Diện tích =\", dt)\n"
   ]
  },
  {
   "cell_type": "code",
   "execution_count": 17,
   "id": "94a6c621",
   "metadata": {},
   "outputs": [
    {
     "name": "stdout",
     "output_type": "stream",
     "text": [
      "Bạn đoán lần thứ:  1\n",
      "Bạn đoán sai, số máy > số bạn đoán\n",
      "Bạn đoán lần thứ:  2\n",
      "Bạn đoán sai, số máy < số bạn đoán\n",
      "Bạn đoán lần thứ:  3\n",
      "Bạn đoán sai, số máy < số bạn đoán\n",
      "Bạn đoán lần thứ:  4\n",
      "Bạn đoán sai, số máy < số bạn đoán\n",
      "Bạn đoán lần thứ:  5\n",
      "Bạn đoán sai, số máy > số bạn đoán\n",
      "Bạn đoán lần thứ:  6\n",
      "Bạn đoán sai, số máy > số bạn đoán\n",
      "Bạn đoán lần thứ:  7\n",
      "Bạn đoán sai, số máy > số bạn đoán\n",
      "GAME OVER!, số máy là= 23\n",
      "Cám ơn bạn đã chơi Game!\n"
     ]
    }
   ],
   "source": [
    "#Câu 2\n",
    "from random import randrange\n",
    "while True:\n",
    "    somay = randrange(0, 101)\n",
    "    solandoan=0\n",
    "    win = False\n",
    "    while solandoan<7:\n",
    "        solandoan+=1\n",
    "        songuoi=int(input(\"Máy đoán [1..100], mời bạn đoán:\"))\n",
    "        print(\"Bạn đoán lần thứ: \", solandoan)\n",
    "        if somay==songuoi:\n",
    "            print(\"Chúc mừng bạn đã đoán đúng, số máy là=\", somay)\n",
    "            win = True\n",
    "            break\n",
    "        if somay>songuoi:\n",
    "            print(\"Bạn đoán sai, số máy > số bạn đoán\")\n",
    "        elif somay<songuoi:\n",
    "            print(\"Bạn đoán sai, số máy < số bạn đoán\")\n",
    "    if win==False:\n",
    "        print(\"GAME OVER!, số máy là=\", somay)\n",
    "    hoi=input(\"Tiếp không?\")\n",
    "    if hoi==\"k\":\n",
    "        break\n",
    "print(\"Cám ơn bạn đã chơi Game!\")"
   ]
  },
  {
   "cell_type": "code",
   "execution_count": 2,
   "id": "eaee6f30",
   "metadata": {},
   "outputs": [
    {
     "name": "stdout",
     "output_type": "stream",
     "text": [
      "Nhập vào chiều cao:\n"
     ]
    },
    {
     "name": "stdout",
     "output_type": "stream",
     "text": [
      "Nhập vào cân nặng:\n",
      "BMI của bạn là:  22.031725684986377\n",
      "Phân loại:  Bình thường\n",
      "Nguy cơ mắc bệnh:  Trung bình\n"
     ]
    }
   ],
   "source": [
    "#Câu 3\n",
    "def BMI(height, weight):\n",
    "    return weight / (height ** 2)\n",
    "def PhanLoai(bmi):\n",
    "    if bmi < 18.5:\n",
    "        return \"Gầy\"\n",
    "    elif bmi<=24.9:\n",
    "        return \"Bình thường\"\n",
    "    elif bmi<=29.9:\n",
    "        return \"Hơi béo\"\n",
    "    elif bmi<=34.9:\n",
    "        return \"Béo phì cấp độ 1\"\n",
    "    elif bmi<=39.9:\n",
    "        return \"Béo phì cấp độ 2\"\n",
    "    else:\n",
    "        return \"Béo phì cấp độ 3\"\n",
    "def NguyCoBenh(bmi):\n",
    "    if bmi<18.5:\n",
    "        return \"Thấp\"\n",
    "    elif bmi<=24.9:\n",
    "        return \"Trung bình\"\n",
    "    elif bmi<=29.9:\n",
    "        return \"Cao\"\n",
    "    elif bmi<=34.9:\n",
    "        return \"Cao\"\n",
    "    elif bmi<=39.9:\n",
    "        return \"Rất cao\"\n",
    "    else:\n",
    "        return \"Nguy hiểm\"\n",
    "print(\"Nhập vào chiều cao:\")\n",
    "height=float(input())\n",
    "print(\"Nhập vào cân nặng:\")\n",
    "weight=float(input())\n",
    "bmi=BMI(height, weight)\n",
    "print(\"BMI của bạn là: \", bmi)\n",
    "print(\"Phân loại: \", PhanLoai(bmi))\n",
    "print(\"Nguy cơ mắc bệnh: \", NguyCoBenh(bmi))"
   ]
  },
  {
   "cell_type": "code",
   "execution_count": 5,
   "id": "69ac4c4c",
   "metadata": {},
   "outputs": [
    {
     "name": "stdout",
     "output_type": "stream",
     "text": [
      "Chương trình tính ROI\n",
      "Tỉ lệ ROI = 0.42857142857142855\n",
      "==> Không nên đầu tư\n"
     ]
    }
   ],
   "source": [
    "#Câu 4\n",
    "def ROI(dt,cp):\n",
    "    return (dt - cp) / cp \n",
    "def GoiYDauTu(roi):\n",
    "    if roi >=0.75:\n",
    "        return \"Nên đầu tư\"\n",
    "    else:\n",
    "        return \"Không nên đầu tư\"\n",
    "print(\"Chương trình tính ROI\")\n",
    "dt=float(input(\"Nhập doanh thu: \"))\n",
    "cp=float(input(\"Nhập chi phí: \"))\n",
    "roi=ROI(dt, cp)\n",
    "print(\"Tỉ lệ ROI =\", roi)\n",
    "print(\"==>\", GoiYDauTu(roi))"
   ]
  },
  {
   "cell_type": "code",
   "execution_count": 10,
   "id": "0198f6c5",
   "metadata": {},
   "outputs": [
    {
     "name": "stdout",
     "output_type": "stream",
     "text": [
      "34\n",
      "1\t 1\t 2\t 3\t 5\t 8\t 13\t 21\t 34\t "
     ]
    }
   ],
   "source": [
    "#Câu 5\n",
    "def fibonacci(n):\n",
    "    if n<=2:\n",
    "        return 1\n",
    "    return fibonacci(n-1)+fibonacci(n-2)\n",
    "def listfibo(n):\n",
    "    for i in range(1,n+1):\n",
    "        print(fibonacci(i), end='\\t ')\n",
    "print(fibonacci(9))\n",
    "listfibo(9)"
   ]
  },
  {
   "cell_type": "code",
   "execution_count": 15,
   "id": "8bedf8e5",
   "metadata": {},
   "outputs": [
    {
     "name": "stdout",
     "output_type": "stream",
     "text": [
      "4.5 ->!!!Không thể xuất hiện khi dùng randrange(0,100)!!!\n",
      "34 ->Có thể xuất hiện khi dùng randrange(0,100)\n",
      "-1 ->!!!Không thể xuất hiện khi dùng randrange(0,100)!!!\n",
      "100 ->!!!Không thể xuất hiện khi dùng randrange(0,100)!!!\n",
      "0 ->!!!Không thể xuất hiện khi dùng randrange(0,100)!!!\n",
      "99 ->Có thể xuất hiện khi dùng randrange(0,100)\n"
     ]
    }
   ],
   "source": [
    "#Câu 6\n",
    "import random\n",
    "ds=[4.5,34,-1,100,0,99]\n",
    "for gia_tri in ds:\n",
    "    if(0 <gia_tri <100) and isinstance(gia_tri, int):\n",
    "        print(gia_tri,\"->Có thể xuất hiện khi dùng randrange(0,100)\") \n",
    "    else:\n",
    "         print(gia_tri,\"->!!!Không thể xuất hiện khi dùng randrange(0,100)!!!\")"
   ]
  },
  {
   "cell_type": "code",
   "execution_count": 21,
   "id": "cfe7bf21",
   "metadata": {},
   "outputs": [
    {
     "name": "stdout",
     "output_type": "stream",
     "text": [
      "Nhập tọa độ điểm A:\n",
      "Nhập tọa độ điểm B:\n",
      "Khoảng cách AB = 3.1622776601683795\n"
     ]
    }
   ],
   "source": [
    "#Câu 7\n",
    "from math import sqrt\n",
    "def toadoA(x1,y1):\n",
    "    return (x1,y1)\n",
    "def toadoB(x2,y2):\n",
    "    return (x2,y2)\n",
    "def khoangcach(A,B):\n",
    "    return sqrt((x2-x1)**2+(y2-y1)**2)\n",
    "print(\"Nhập tọa độ điểm A:\")\n",
    "x1=float(input(\"Nhập hoành độ: x1=\"))\n",
    "y1=float(input(\"Nhập tung độ: y1=\"))\n",
    "A=toadoA(x1,y1)\n",
    "print(\"Nhập tọa độ điểm B:\")\n",
    "x2=float(input(\"Nhập hoành độ: x2=\"))\n",
    "y2=float(input(\"Nhập tung độ: y2=\"))\n",
    "B=toadoB(x2,y2)\n",
    "print(\"Khoảng cách AB =\", khoangcach(A,B))"
   ]
  },
  {
   "cell_type": "code",
   "execution_count": 4,
   "id": "30353cd7",
   "metadata": {},
   "outputs": [
    {
     "name": "stdout",
     "output_type": "stream",
     "text": [
      "log 2.0 ( 8.0 ) = 3.0\n"
     ]
    }
   ],
   "source": [
    "#Câu 8\n",
    "from math import log\n",
    "a=float(input(\"Nhập cơ số a>0, a!=1: \"))\n",
    "x=float(input(\"Nhập số x>0: \"))\n",
    "if a<=0 or a==1 or x<=0:\n",
    "    print(\"Dữ liệu không hợp lệ\")\n",
    "else:\n",
    "    loga=log(x)/log(a)\n",
    "    print(\"log\",a,\"(\",x,\") =\", loga)"
   ]
  },
  {
   "cell_type": "code",
   "execution_count": null,
   "id": "98b14140",
   "metadata": {},
   "outputs": [
    {
     "name": "stdout",
     "output_type": "stream",
     "text": [
      "Kết quả căn bậc 2 lồng nhau với n= 6 là: 1.9993976373924085\n"
     ]
    }
   ],
   "source": [
    "#Câu 9\n",
    "from math import sqrt\n",
    "n=int(input(\"Nhập n: \"))\n",
    "result=0\n",
    "for i in range(n):\n",
    "    result=sqrt(2+result)\n",
    "print(\"Kết quả căn bậc 2 lồng nhau với n=\", n, \"là:\", result)"
   ]
  },
  {
   "cell_type": "code",
   "execution_count": null,
   "id": "47b39193",
   "metadata": {},
   "outputs": [
    {
     "name": "stdout",
     "output_type": "stream",
     "text": [
      "      * \n",
      "      * * \n",
      "      * * * \n",
      "* * * * * * *\n",
      "  * * * \n",
      "    * * \n",
      "      * \n",
      "            *\n",
      "          * *\n",
      "        *   *\n",
      "* * * * * * *\n",
      "*   *\n",
      "* *\n",
      "*\n",
      "*****\n",
      " ****\n",
      "  ***\n",
      "   **\n",
      "    *\n",
      "**\n",
      "***\n",
      "****\n",
      "*****\n",
      "*****\n",
      " ****\n",
      "  ***\n",
      "   **\n",
      "    *\n",
      "\n",
      "*\n",
      "**\n",
      "***\n",
      "****\n",
      "*****\n"
     ]
    }
   ],
   "source": [
    "#câu 10\n",
    "import time\n",
    "import os\n",
    "\n",
    "def clear_screen():\n",
    "    os.system('cls' if os.name == 'nt' else 'clear')\n",
    "n = int(input(\"Nhập chiều cao của hình: \"))\n",
    "# Hình 1: Trái dưới + trái trên (không lỗ trống) → tam giác trên đẩy sang phải\n",
    "def draw_shape1():\n",
    "    base_indent = 2 * (n)\n",
    "    for i in range(1,n+1):\n",
    "        print(\" \" * base_indent + \"* \"* i)\n",
    "    print(\" \".join(\"*\" for _ in range(2*n + 1)))\n",
    "    for i in range(n, 0, -1):\n",
    "        print(\" \" * ((n-i+1))*2 + \"* \" * i)\n",
    "\n",
    "# Hình 2: Trái dưới + trái trên (có lỗ trống) → tam giác trên đẩy sang phải\n",
    "def draw_shape2():\n",
    "    base_indent = 2 *n\n",
    "    for i in range(1,n+1):\n",
    "        indent = base_indent + 2*((n-1) - i)\n",
    "        if i == 0:\n",
    "            print(\" \" * indent + \"*\")\n",
    "        else:\n",
    "            print(\" \" * indent + \"*\" + \" \" * (2*i - 1) + \"*\")\n",
    "    print(\" \".join(\"*\" *(2*n + 1)))\n",
    "    for i in range(n-1, -1, -1):\n",
    "        if i == 0:\n",
    "            print(\"*\")\n",
    "        else:\n",
    "            print(\"*\" + \" \" * (2*i - 1) + \"*\")\n",
    "\n",
    "\n",
    "# Hình 3: Phải dưới + phải trên (không lỗ trống) → tam giác trên đẩy sang trái\n",
    "def draw_shape3():\n",
    "    for i in range(5, 0, -1):\n",
    "        print(' ' * (5 - i) + '*' * i)\n",
    "    for i in range(2, 6):\n",
    "        print('*' * i)\n",
    "\n",
    "# Hình 4: Phải dưới + phải trên (có lỗ trống) → tam giác trên đẩy sang trái\n",
    "def draw_shape4():\n",
    "    for i in range(5, 0, -1):\n",
    "        print(' ' * (5 - i) + '*' * i)\n",
    "    print()\n",
    "    for i in range(1, 6):\n",
    "        print('*' * i)\n",
    "\n",
    "# Danh sách các hình\n",
    "shapes = [draw_shape1, draw_shape2, draw_shape3, draw_shape4]\n",
    "\n",
    "# Hiển thị từng hình cách nhau 5 giây\n",
    "for draw in shapes:\n",
    "    clear_screen()\n",
    "    draw()\n",
    "    time.sleep(5)"
   ]
  },
  {
   "cell_type": "code",
   "execution_count": 11,
   "id": "9941ff71",
   "metadata": {},
   "outputs": [
    {
     "name": "stdout",
     "output_type": "stream",
     "text": [
      "Trườnghợp 1: \n",
      "5\n",
      "5\n",
      "0\n",
      "Trườnghợp 2: \n",
      "5\n",
      "5\n",
      "5\n",
      "Trườnghợp 3: \n",
      "5\n",
      "5\n",
      "0\n"
     ]
    }
   ],
   "source": [
    "#câu 11\n",
    "def sum1(n):\n",
    " s = 0\n",
    " while n > 0:\n",
    "    s += 1\n",
    "    n -= 1\n",
    " return s\n",
    "def sum2():\n",
    " global val\n",
    " s = 0\n",
    " while val > 0:\n",
    "    s += 1\n",
    "    val -= 1\n",
    " return s\n",
    "def sum3():\n",
    " s = 0\n",
    " for i in range(val, 0, -1):\n",
    "    s += 1\n",
    " return s\n",
    "def main():\n",
    " global val\n",
    " val = 5\n",
    " print(\"Trườnghợp 1: \")\n",
    " print(sum1(5))\n",
    " print(sum2())\n",
    " print(sum3())\n",
    "main()\n",
    "def main():\n",
    " global val\n",
    " val = 5\n",
    " print(\"Trườnghợp 2: \")\n",
    " print(sum1(5))\n",
    " print(sum3())\n",
    " print(sum2())\n",
    "main()\n",
    "def main():\n",
    " global val\n",
    " val = 5\n",
    " print(\"Trườnghợp 3: \")\n",
    " print(sum2())\n",
    " print(sum1(5))\n",
    " print(sum3())\n",
    "main()\n"
   ]
  },
  {
   "cell_type": "code",
   "execution_count": null,
   "id": "b517a8a4",
   "metadata": {},
   "outputs": [
    {
     "name": "stdout",
     "output_type": "stream",
     "text": [
      "-3 3 -2 2 -1 1 0 0 1 -1 2 -2 3 -3 4 -4 \n"
     ]
    }
   ],
   "source": [
    "#Câu 12\n",
    "def oscillate(start, end):\n",
    "    result = []\n",
    "    for i in range(start, end):\n",
    "        if i < 0:\n",
    "            result.append(i)\n",
    "            result.append(-i)\n",
    "        elif i == 0:\n",
    "            result.append(0)\n",
    "            result.append(0)\n",
    "        else:\n",
    "            result.append(i)\n",
    "            result.append(-i)\n",
    "    return result\n",
    "for n in oscillate(-3,5):\n",
    "    print(n, end=' ')\n",
    "print()"
   ]
  },
  {
   "cell_type": "code",
   "execution_count": null,
   "id": "51c5877b",
   "metadata": {},
   "outputs": [
    {
     "name": "stdout",
     "output_type": "stream",
     "text": [
      "8 không phải là số hoàn thiện\n",
      "8 không phải là số thịnh vượng\n"
     ]
    }
   ],
   "source": [
    "#Câu 13\n",
    "def tong_uoc(n):\n",
    "    tong=0\n",
    "    for i in range(1,n):\n",
    "        if n%i==0:\n",
    "            tong+=i\n",
    "    return tong\n",
    "def kiem_tra_hoan_thien(n):\n",
    "    return tong_uoc(n)==n\n",
    "def kiem_tra_thinh_vuong(n):\n",
    "    return tong_uoc(n)>n\n",
    "n=int(input(\"Nhập số nguyên dương n: \"))\n",
    "if n<=0:\n",
    "    print(\"Dữ liệu không hợp lệ\")\n",
    "else:\n",
    "    if kiem_tra_hoan_thien(n):\n",
    "        print(n,\"là số hoàn thiện\")\n",
    "    else:\n",
    "        print(n,\"không phải là số hoàn thiện\")\n",
    "    if kiem_tra_thinh_vuong(n):\n",
    "        print(n,\"là số thịnh vượng\")\n",
    "    else:\n",
    "        print(n,\"không phải là số thịnh vượng\")\n"
   ]
  }
 ],
 "metadata": {
  "kernelspec": {
   "display_name": "Python 3",
   "language": "python",
   "name": "python3"
  },
  "language_info": {
   "codemirror_mode": {
    "name": "ipython",
    "version": 3
   },
   "file_extension": ".py",
   "mimetype": "text/x-python",
   "name": "python",
   "nbconvert_exporter": "python",
   "pygments_lexer": "ipython3",
   "version": "3.9.13"
  }
 },
 "nbformat": 4,
 "nbformat_minor": 5
}
