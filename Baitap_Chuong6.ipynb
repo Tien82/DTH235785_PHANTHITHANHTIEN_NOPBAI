{
 "cells": [
  {
   "cell_type": "code",
   "execution_count": 8,
   "id": "ee01b6da",
   "metadata": {},
   "outputs": [
    {
     "name": "stdout",
     "output_type": "stream",
     "text": [
      "Chương trình xử lý List\n",
      "List ngẫu nhiên là:\n",
      "[81, -14, 13, 14, -68, 90, 44, 51, -57, 92]\n",
      "Mời bạn thêm số mới\n",
      "Số bạn muốn thêm là: 14\n",
      "Bạn muốn đếm số nào: \n",
      "->Số bạn muốn đếm là: 14\n",
      "Số 14 xuất hiện 2 lần trong list\n",
      "Có  1 số nguyên tố trong list\n",
      "Tổng= 13\n",
      "List sau khi sắp xếp là:\n",
      "[-68, -57, -14, 13, 14, 14, 44, 51, 81, 90, 92]\n",
      "Danh sách đã bị xóa.\n"
     ]
    }
   ],
   "source": [
    "#Câu 1\n",
    "from random import randrange\n",
    "print(\"Chương trình xử lý List\")\n",
    "n = int(input(\"Nhập số phần tử của list: \"))\n",
    "lst=[0]*n\n",
    "for i in range(n):\n",
    "    lst[i]=randrange(-100,100)\n",
    "print(\"List ngẫu nhiên là:\")\n",
    "print(lst)\n",
    "print(\"Mời bạn thêm số mới\")\n",
    "value=int(input())\n",
    "lst.append(value)\n",
    "print(\"Số bạn muốn thêm là:\",value)\n",
    "print(\"Bạn muốn đếm số nào: \")\n",
    "k=int(input())\n",
    "print(\"->Số bạn muốn đếm là:\",k)\n",
    "dem=lst.count(k)\n",
    "print(\"Số\",k,\"xuất hiện\",dem,\"lần trong list\")\n",
    "def CheckedPrime(n):\n",
    "    d=0\n",
    "    for i in range(1,n+1):\n",
    "        if n%i==0:\n",
    "            d=d+1\n",
    "    return d==2\n",
    "demnt=0\n",
    "tongnt=0\n",
    "for x in lst:\n",
    "    if CheckedPrime(x):\n",
    "        demnt=demnt+1\n",
    "        tongnt=tongnt+x\n",
    "print(\"Có \",demnt,\"số nguyên tố trong list\")\n",
    "print(\"Tổng=\",tongnt)\n",
    "lst.sort()\n",
    "print(\"List sau khi sắp xếp là:\")\n",
    "print(lst)\n",
    "del lst\n",
    "print(\"Danh sách đã bị xóa.\")"
   ]
  },
  {
   "cell_type": "code",
   "execution_count": 10,
   "id": "56491056",
   "metadata": {},
   "outputs": [
    {
     "name": "stdout",
     "output_type": "stream",
     "text": [
      "List ngẫu nhiên là:\n",
      "[-19, 34, -94, -95, 27, -38, -31, 59, 34, -57]\n",
      "List sau khi chèn thêm là:\n",
      "[-19, 34, -94, -95, 27, -38, -31, 59, 34, -57, 25]\n",
      "List sau khi xóa là:\n",
      "[-19, -94, -95, 27, -38, -31, 59, -57, 25]\n",
      "List không đối xứng\n"
     ]
    }
   ],
   "source": [
    "#câu 2\n",
    "from random import randrange\n",
    "lst=[]\n",
    "n=int(input(\"Nhập số phần tử của list: \"))\n",
    "for i in range(n):\n",
    "    lst.append(randrange(-100,100))\n",
    "print(\"List ngẫu nhiên là:\")\n",
    "print(lst)\n",
    "x=int(input(\"Mời bạn chèn thêm số mới\"))\n",
    "lst.append(x)\n",
    "print(\"List sau khi chèn thêm là:\")\n",
    "print(lst)\n",
    "k=int(input(\"Mời nhập số để xóa: \"))\n",
    "while lst.count(k)>0:\n",
    "    lst.remove(k)\n",
    "print(\"List sau khi xóa là:\")\n",
    "print(lst)\n",
    "def CheckDoiXung(lst):\n",
    "    for i in range(len(lst)//2):\n",
    "        if lst[i]!=lst[len(lst)-1-i]:\n",
    "            return False\n",
    "    return True\n",
    "kt=CheckDoiXung(lst)\n",
    "if kt:\n",
    "    print(\"List đối xứng\")\n",
    "else:\n",
    "    print(\"List không đối xứng\")\n"
   ]
  },
  {
   "cell_type": "code",
   "execution_count": 1,
   "id": "7871f519",
   "metadata": {},
   "outputs": [
    {
     "name": "stdout",
     "output_type": "stream",
     "text": [
      "Nhập số dòng: \n",
      "Nhập số cột: \n",
      "6\t5\t25\t45\t74\t16\t\n",
      "92\t31\t61\t50\t67\t58\t\n",
      "13\t52\t35\t78\t65\t27\t\n",
      "20\t98\t63\t59\t89\t97\t\n",
      "1\t6\t85\t12\t12\t36\t\n",
      "Mời bạn nhập dòng muốn xuất: \n",
      "20\t98\t63\t59\t89\t97\t\n",
      "Số lớn nhất trong ma trận là: 98\n"
     ]
    }
   ],
   "source": [
    "#Câu 3\n",
    "from random import randrange\n",
    "def TaoMaTran(m,n):\n",
    "    D=[]\n",
    "    for i in range(m):\n",
    "        row=[]\n",
    "        for j in range(n):\n",
    "            row.append(randrange(0,100))\n",
    "        D.append(row)\n",
    "    return D\n",
    "def XuatMaTran(D):\n",
    "    for row in D:\n",
    "        for element in row:\n",
    "            print(element,end=\"\\t\")\n",
    "        print()\n",
    "def LayDong(r):\n",
    "    R=D[r]\n",
    "    return R\n",
    "def XuatList1Chieu(R):\n",
    "    for element in R:\n",
    "        print(element,end=\"\\t\")\n",
    "def LayCot(c):\n",
    "    C=[]\n",
    "    for i in range(len(D)):\n",
    "        C.append(D[i][c])\n",
    "    return C\n",
    "def MAX(D):\n",
    "    max=D[0][0]\n",
    "    for i in range(len(D)):\n",
    "        for j in range(len(D[0])):\n",
    "            if D[i][j]>max:\n",
    "                max=D[i][j]\n",
    "    return max\n",
    "print(\"Nhập số dòng: \")\n",
    "m=int(input())\n",
    "print(\"Nhập số cột: \")\n",
    "n=int(input())\n",
    "D=TaoMaTran(m,n)\n",
    "XuatMaTran(D)\n",
    "print(\"Mời bạn nhập dòng muốn xuất: \")\n",
    "r=int(input())\n",
    "XuatList1Chieu(LayDong(r))\n",
    "max=MAX(D)\n",
    "print(\"\\nSố lớn nhất trong ma trận là:\",max)\n"
   ]
  },
  {
   "cell_type": "code",
   "execution_count": 2,
   "id": "b0ce6bb7",
   "metadata": {},
   "outputs": [
    {
     "name": "stdout",
     "output_type": "stream",
     "text": [
      "(a) lst[0] = 3\n",
      "(b) lst[3] = 5\n",
      "(c) lst[x] = 1\n",
      "(d) lst[-x] = 5\n",
      "(e) lst[x + 1] = 5\n",
      "(f) lst[x] + 1 = 2\n",
      "(g) lst[lst[x]] = 0\n",
      "(h) lst[lst[lst[x]]] = 3\n"
     ]
    }
   ],
   "source": [
    "#Câu 4\n",
    "lst = [3, 0, 1, 5, 2]\n",
    "x = 2\n",
    "\n",
    "print(\"(a) lst[0] =\", lst[0])\n",
    "print(\"(b) lst[3] =\", lst[3])\n",
    "print(\"(c) lst[x] =\", lst[x])\n",
    "print(\"(d) lst[-x] =\", lst[-x])\n",
    "print(\"(e) lst[x + 1] =\", lst[x + 1])\n",
    "print(\"(f) lst[x] + 1 =\", lst[x] + 1)\n",
    "print(\"(g) lst[lst[x]] =\", lst[lst[x]])\n",
    "print(\"(h) lst[lst[lst[x]]] =\", lst[lst[lst[x]]])"
   ]
  },
  {
   "cell_type": "code",
   "execution_count": 3,
   "id": "f7c03716",
   "metadata": {},
   "outputs": [
    {
     "name": "stdout",
     "output_type": "stream",
     "text": [
      "(a) lst = [20, 1, -34, 40, -8, 60, 1, 3]\n",
      "(b) lst[0:3] = [20, 1, -34]\n",
      "(c) lst[4:8] = [-8, 60, 1, 3]\n",
      "(d) lst[4:33] = [-8, 60, 1, 3]\n",
      "(e) lst[-5:-3] = [40, -8]\n",
      "(f) lst[-22:3] = [20, 1, -34]\n",
      "(g) lst[4:] = [-8, 60, 1, 3]\n",
      "(h) lst[:] = [20, 1, -34, 40, -8, 60, 1, 3]\n",
      "(i) lst[:4] = [20, 1, -34, 40]\n",
      "(j) lst[1:5] = [1, -34, 40, -8]\n",
      "(k) -34 in lst = True\n",
      "(l) -34 not in lst = False\n",
      "(m) len(lst) = 8\n"
     ]
    }
   ],
   "source": [
    "#Câu 5\n",
    "lst = [20, 1, -34, 40, -8, 60, 1, 3]\n",
    "print(\"(a) lst =\", lst)\n",
    "print(\"(b) lst[0:3] =\", lst[0:3])\n",
    "print(\"(c) lst[4:8] =\", lst[4:8])\n",
    "print(\"(d) lst[4:33] =\", lst[4:33])\n",
    "print(\"(e) lst[-5:-3] =\", lst[-5:-3])\n",
    "print(\"(f) lst[-22:3] =\", lst[-22:3])\n",
    "print(\"(g) lst[4:] =\", lst[4:])\n",
    "print(\"(h) lst[:] =\", lst[:])\n",
    "print(\"(i) lst[:4] =\", lst[:4])\n",
    "print(\"(j) lst[1:5] =\", lst[1:5])\n",
    "print(\"(k) -34 in lst =\", -34 in lst)\n",
    "print(\"(l) -34 not in lst =\", -34 not in lst)\n",
    "print(\"(m) len(lst) =\", len(lst))\n"
   ]
  },
  {
   "cell_type": "code",
   "execution_count": 5,
   "id": "8f3a210b",
   "metadata": {},
   "outputs": [
    {
     "name": "stdout",
     "output_type": "stream",
     "text": [
      "Nhập số lượng phần tử N:\n",
      "Danh sách ngẫu nhiên không trùng nhau là:\n",
      "[55, 50, 87, 29, 56, 58, 24, 35, 91, 45, 70, 67, 93, 53, 77, 47, 82, 74, 39, 38]\n"
     ]
    }
   ],
   "source": [
    "#Câu 6\n",
    "import random\n",
    "\n",
    "print(\"Nhập số lượng phần tử N:\")\n",
    "N = int(input())\n",
    "if N > 100:\n",
    "    print(\"Không thể tạo danh sách với\", N, \"số không trùng nhau trong khoảng 0–99.\")\n",
    "else:\n",
    "    lst = random.sample(range(100), N)\n",
    "    print(\"Danh sách ngẫu nhiên không trùng nhau là:\")\n",
    "    print(lst)"
   ]
  },
  {
   "cell_type": "code",
   "execution_count": null,
   "id": "f9e01971",
   "metadata": {},
   "outputs": [
    {
     "name": "stdout",
     "output_type": "stream",
     "text": [
      "Nhập {n} số theo thứ tự tăng dần:\n",
      "Số phải lớn hơn {day[-1]}. Nhập lại!\n",
      "Số phải lớn hơn {day[-1]}. Nhập lại!\n",
      "Dãy số tăng dần đã nhập là:\n",
      "[1, 2, 5, 7, 8, 9, 10, 11, 13, 15]\n"
     ]
    }
   ],
   "source": [
    "#Câu 7\n",
    "def nhap_day_tang_dan(n):\n",
    "    day = []\n",
    "    print(\"Nhập {n} số theo thứ tự tăng dần:\")\n",
    "    for i in range(n):\n",
    "        while True:\n",
    "            try:\n",
    "                x = int(input(f\"Nhập số thứ {i+1}: \"))\n",
    "                if i == 0 or x > day[-1]:\n",
    "                    day.append(x)\n",
    "                    break\n",
    "                else:\n",
    "                    print(\"Số phải lớn hơn {day[-1]}. Nhập lại!\")\n",
    "            except ValueError:\n",
    "                print(\"Vui lòng nhập số nguyên.\")\n",
    "    return day\n",
    "n = int(input(\"Nhập số lượng phần tử: \"))\n",
    "day_tang = nhap_day_tang_dan(n)\n",
    "print(\"Dãy số tăng dần đã nhập là:\")\n",
    "print(day_tang)"
   ]
  },
  {
   "cell_type": "code",
   "execution_count": null,
   "id": "aa99160a",
   "metadata": {},
   "outputs": [
    {
     "name": "stdout",
     "output_type": "stream",
     "text": [
      "Dãy số sau khi sắp xếp giảm dần:\n",
      "[9.0, 7.8, 6.0, 4.5, 3.0, 2.0, 1.5]\n"
     ]
    }
   ],
   "source": [
    "#Câu 8\n",
    "def nhap_day_so_thuc():\n",
    "    while True:\n",
    "        try:\n",
    "            chuoi = input(\"Nhập dãy số thực cách nhau bởi dấu cách: \")\n",
    "            M = [float(x) for x in chuoi.split()]\n",
    "            return M\n",
    "        except ValueError:\n",
    "            print(\"Dữ liệu không hợp lệ. Vui lòng nhập lại!\")\n",
    "\n",
    "def sap_xep_giam_dan(M):\n",
    "    return sorted(M, reverse=True)\n",
    "M = nhap_day_so_thuc()\n",
    "M_giam = sap_xep_giam_dan(M)\n",
    "\n",
    "print(\"Dãy số sau khi sắp xếp giảm dần:\")\n",
    "print(M_giam)"
   ]
  },
  {
   "cell_type": "code",
   "execution_count": 17,
   "id": "2d468bea",
   "metadata": {},
   "outputs": [
    {
     "name": "stdout",
     "output_type": "stream",
     "text": [
      "Dữ liệu không hợp lệ. Vui lòng nhập lại!\n",
      "Dãy số nguyên đã nhập: [3, 6, 7, 11, 17, 2, 90, 2, 5, 4, 5, 8]\n",
      "Các số lẻ trong dãy: [3, 7, 11, 17, 5, 5] =>Tổng: 6\n",
      "Các số chẵn trong dãy: [6, 2, 90, 2, 4, 8] =>Tổng: 6\n",
      "Các số nguyên tố trong dãy: [3, 7, 11, 17, 2, 2, 5, 5]\n",
      "Các số không phải nguyên tố trong dãy: [6, 90, 4, 8]\n"
     ]
    }
   ],
   "source": [
    "#Câu 9\n",
    "def nhapMSN():\n",
    "    while True:\n",
    "        try:\n",
    "            chuoi = input(\"Nhập dãy số nguyên cách nhau bởi dấu cách: \")\n",
    "            M = [int(x) for x in chuoi.split()]\n",
    "            return M\n",
    "        except ValueError:\n",
    "            print(\"Dữ liệu không hợp lệ. Vui lòng nhập lại!\")\n",
    "def SoLe(M):\n",
    "    le = [x for x in M if x % 2 != 0]\n",
    "    return le\n",
    "def SoChan(M):\n",
    "    chan = [x for x in M if x % 2 == 0]\n",
    "    return chan\n",
    "def la_nguyen_to(n):\n",
    "    if n < 2:\n",
    "        return False\n",
    "    for i in range(2, int(n**0.5)+1):\n",
    "        if n % i == 0:\n",
    "            return False\n",
    "    return True\n",
    "def SoNguyenTo(M):\n",
    "    nt = [x for x in M if la_nguyen_to(x)]\n",
    "    return nt\n",
    "def KhongPhaiSNT(M):\n",
    "    khong_nt = [x for x in M if not la_nguyen_to(x)]\n",
    "    return khong_nt\n",
    "M = nhapMSN()\n",
    "print(\"Dãy số nguyên đã nhập:\", M)\n",
    "print(\"Các số lẻ trong dãy:\", SoLe(M), \"=>Tổng:\", len(SoLe(M)))\n",
    "print(\"Các số chẵn trong dãy:\", SoChan(M), \"=>Tổng:\", len(SoChan(M)))\n",
    "print(\"Các số nguyên tố trong dãy:\", SoNguyenTo(M))\n",
    "print(\"Các số không phải nguyên tố trong dãy:\", KhongPhaiSNT(M))"
   ]
  },
  {
   "cell_type": "code",
   "execution_count": 21,
   "id": "aa164ab4",
   "metadata": {},
   "outputs": [
    {
     "name": "stdout",
     "output_type": "stream",
     "text": [
      "Nhập ma trận A (3x3):\n",
      "Nhập ma trận B (3x3):\n",
      "\n",
      " Ma trận A:\n",
      "  3.00  4.00  6.00\n",
      "  8.00  2.00  1.00\n",
      "  7.00  6.00  4.00\n",
      "\n",
      " Ma trận B:\n",
      "  3.00  2.00  5.00\n",
      "  6.00  8.00  7.00\n",
      "  4.00  3.00  2.00\n",
      "\n",
      " Ma trận A + B:\n",
      "  6.00  6.00  11.00\n",
      "  14.00  10.00  8.00\n",
      "  11.00  9.00  6.00\n",
      "\n",
      " Ma trận A hoán vị:\n",
      "  3.00  8.00  7.00\n",
      "  4.00  2.00  6.00\n",
      "  6.00  1.00  4.00\n",
      "\n",
      " Ma trận B hoán vị:\n",
      "  3.00  6.00  4.00\n",
      "  2.00  8.00  3.00\n",
      "  5.00  7.00  2.00\n"
     ]
    }
   ],
   "source": [
    "#Câu 10\n",
    "def nhap_ma_tran(m, n, ten):\n",
    "    print(f\"Nhập ma trận {ten} ({m}x{n}):\")\n",
    "    return [[int(input(f\"{ten}[{i}][{j}] = \")) for j in range(n)] for i in range(m)]\n",
    "\n",
    "def xuat_ma_tran(M, ten=\"\"):\n",
    "    print(f\"\\n Ma trận {ten}:\")\n",
    "    for row in M:\n",
    "        print(\"  \" + \"  \".join(f\"{x:.2f}\" for x in row))\n",
    "\n",
    "def cong_ma_tran(A, B):\n",
    "    return [[A[i][j] + B[i][j] for j in range(len(A[0]))] for i in range(len(A))]\n",
    "\n",
    "def hoan_vi_ma_tran(M):\n",
    "    return [list(row) for row in zip(*M)]\n",
    "\n",
    "# Nhập kích thước ma trận\n",
    "m = int(input(\"Nhập số dòng: \"))\n",
    "n = int(input(\"Nhập số cột: \"))\n",
    "\n",
    "# Nhập ma trận A và B\n",
    "A = nhap_ma_tran(m, n, \"A\")\n",
    "B = nhap_ma_tran(m, n, \"B\")\n",
    "\n",
    "# Cộng ma trận\n",
    "C = cong_ma_tran(A, B)\n",
    "\n",
    "# Hoán vị ma trận\n",
    "A_T = hoan_vi_ma_tran(A)\n",
    "B_T = hoan_vi_ma_tran(B)\n",
    "\n",
    "# Xuất kết quả\n",
    "xuat_ma_tran(A, \"A\")\n",
    "xuat_ma_tran(B, \"B\")\n",
    "xuat_ma_tran(C, \"A + B\")\n",
    "xuat_ma_tran(A_T, \"A hoán vị\")\n",
    "xuat_ma_tran(B_T, \"B hoán vị\")"
   ]
  }
 ],
 "metadata": {
  "kernelspec": {
   "display_name": "Python 3",
   "language": "python",
   "name": "python3"
  },
  "language_info": {
   "codemirror_mode": {
    "name": "ipython",
    "version": 3
   },
   "file_extension": ".py",
   "mimetype": "text/x-python",
   "name": "python",
   "nbconvert_exporter": "python",
   "pygments_lexer": "ipython3",
   "version": "3.9.13"
  }
 },
 "nbformat": 4,
 "nbformat_minor": 5
}
