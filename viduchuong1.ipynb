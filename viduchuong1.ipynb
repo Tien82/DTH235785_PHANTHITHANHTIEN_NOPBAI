{
 "cells": [
  {
   "cell_type": "code",
   "execution_count": 1,
   "id": "884da8c3",
   "metadata": {},
   "outputs": [
    {
     "name": "stdout",
     "output_type": "stream",
     "text": [
      "Viet ma chuong trinh\n"
     ]
    }
   ],
   "source": [
    "print(\"Viet ma chuong trinh\")"
   ]
  },
  {
   "cell_type": "code",
   "execution_count": 2,
   "id": "d84f7f45",
   "metadata": {},
   "outputs": [
    {
     "name": "stdout",
     "output_type": "stream",
     "text": [
      "Albert Einstein da tung noi: Mot nguoi khong bao gio mac sai lam khong bao gio thu bat ky dieu gi moi.\n"
     ]
    }
   ],
   "source": [
    "print(\"Albert Einstein da tung noi: Mot nguoi khong bao gio mac sai lam khong bao gio thu bat ky dieu gi moi.\")"
   ]
  },
  {
   "cell_type": "code",
   "execution_count": 3,
   "id": "ca05764c",
   "metadata": {},
   "outputs": [],
   "source": [
    "if 5<2:\n",
    "    print(\"Five is greater than two\")"
   ]
  },
  {
   "cell_type": "code",
   "execution_count": 4,
   "id": "3c86904a",
   "metadata": {},
   "outputs": [
    {
     "name": "stdout",
     "output_type": "stream",
     "text": [
      "6\n",
      "Hello python\n"
     ]
    }
   ],
   "source": [
    "total = 1 + \\\n",
    "2 + \\\n",
    "3\n",
    "print(total); print(\"Hello python\")"
   ]
  },
  {
   "cell_type": "code",
   "execution_count": 5,
   "id": "7a2ca9e6",
   "metadata": {},
   "outputs": [
    {
     "name": "stdout",
     "output_type": "stream",
     "text": [
      "True\n"
     ]
    }
   ],
   "source": [
    "\n",
    "if True:\n",
    "    print(\"True\")\n",
    "else:\n",
    "    print(\"False\")"
   ]
  },
  {
   "cell_type": "code",
   "execution_count": 6,
   "id": "85da2ebc",
   "metadata": {},
   "outputs": [
    {
     "name": "stdout",
     "output_type": "stream",
     "text": [
      "Hello, World!\n"
     ]
    }
   ],
   "source": [
    "#This is a comment\n",
    "print(\"Hello, World!\")"
   ]
  },
  {
   "cell_type": "code",
   "execution_count": 3,
   "id": "84640d87",
   "metadata": {},
   "outputs": [
    {
     "data": {
      "text/plain": [
       "9"
      ]
     },
     "execution_count": 3,
     "metadata": {},
     "output_type": "execute_result"
    }
   ],
   "source": [
    "import math\n",
    "import os\n",
    "\n",
    "import math_libs\n",
    "math_libs.add(4,5)\n"
   ]
  },
  {
   "cell_type": "code",
   "execution_count": 4,
   "id": "c98f6277",
   "metadata": {},
   "outputs": [
    {
     "name": "stdout",
     "output_type": "stream",
     "text": [
      "what is the meaning of Life, the Universe, and Everything?\n",
      "what is your quest?\n",
      "42\n",
      "To seek the holy grail.\n"
     ]
    }
   ],
   "source": [
    "import module1\n",
    "import module2\n",
    "print(module1.question)\n",
    "print(module2.question)\n",
    "print(module1.answer)\n",
    "print(module2.answer)\n"
   ]
  }
 ],
 "metadata": {
  "kernelspec": {
   "display_name": "Python 3",
   "language": "python",
   "name": "python3"
  },
  "language_info": {
   "codemirror_mode": {
    "name": "ipython",
    "version": 3
   },
   "file_extension": ".py",
   "mimetype": "text/x-python",
   "name": "python",
   "nbconvert_exporter": "python",
   "pygments_lexer": "ipython3",
   "version": "3.9.13"
  }
 },
 "nbformat": 4,
 "nbformat_minor": 5
}
