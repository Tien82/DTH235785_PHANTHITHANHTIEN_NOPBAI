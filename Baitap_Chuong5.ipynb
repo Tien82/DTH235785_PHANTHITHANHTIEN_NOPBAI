{
 "cells": [
  {
   "cell_type": "code",
   "execution_count": 4,
   "id": "96240a48",
   "metadata": {},
   "outputs": [
    {
     "name": "stdout",
     "output_type": "stream",
     "text": [
      "Nhập 1 chuỗi: \n",
      "Chuỗi bạn nhập là:  biewjmb\n",
      "Chuỗi bạn nhập không đối xứng\n",
      "Bạn có muốn tiếp tục không? (c/k)\n",
      "Nhập 1 chuỗi: \n",
      "Chuỗi bạn nhập là:  oklplko\n",
      "Chuỗi đối xứng\n",
      "Bạn có muốn tiếp tục không? (c/k)\n",
      "Cảm ơn bạn đã sử dụng chương trình\n"
     ]
    }
   ],
   "source": [
    "#Câu 1\n",
    "def CheckDoiXung(s):\n",
    "    flag=True\n",
    "    for i in range(len(s)):\n",
    "        if s[i]!=s[len(s)-1-i]:\n",
    "            flag=False\n",
    "            break\n",
    "    return flag\n",
    "def main():\n",
    "    print(\"Nhập 1 chuỗi: \")\n",
    "    s=input()\n",
    "    print(\"Chuỗi bạn nhập là: \",s)\n",
    "    if CheckDoiXung(s):\n",
    "        print(\"Chuỗi đối xứng\")\n",
    "    else:\n",
    "        print(\"Chuỗi bạn nhập không đối xứng\")\n",
    "while True:\n",
    "    main()\n",
    "    print(\"Bạn có muốn tiếp tục không? (c/k)\")\n",
    "    s=input()\n",
    "    if s=='k':\n",
    "        break\n",
    "print(\"Cảm ơn bạn đã sử dụng chương trình\")"
   ]
  },
  {
   "cell_type": "code",
   "execution_count": 12,
   "id": "8b7e6f94",
   "metadata": {},
   "outputs": [
    {
     "name": "stdout",
     "output_type": "stream",
     "text": [
      "       Trần   Duy     Thanh       => 33\n",
      "Trần Duy Thanh => 14\n"
     ]
    }
   ],
   "source": [
    "#Câu 2\n",
    "def ToiUuChuoi(s):\n",
    "    s2=s\n",
    "    s2=s2.strip()\n",
    "    arr=s2.split(' ')\n",
    "    s2=\" \"\n",
    "    for x in arr:\n",
    "        word=x\n",
    "        if len(word.strip())!=0:\n",
    "            s2=s2+word+\" \"\n",
    "    return s2.strip()\n",
    "S=\"       Trần   Duy     Thanh      \"\n",
    "print(S,\"=>\",len(S))\n",
    "s= ToiUuChuoi(S)\n",
    "print(s,\"=>\",len(s)) "
   ]
  },
  {
   "cell_type": "code",
   "execution_count": 13,
   "id": "06e0d5a7",
   "metadata": {},
   "outputs": [
    {
     "name": "stdout",
     "output_type": "stream",
     "text": [
      "5\n",
      "7\n",
      "8\n",
      "-2\n",
      "8\n",
      "11\n",
      "-13\n",
      "9\n",
      "10\n",
      "Số chẵn:  4\n",
      "Số âm:  2\n",
      "Số nguyên tố:  3\n",
      "Trung bình:  4.777777777777778\n"
     ]
    }
   ],
   "source": [
    "#Câu 3\n",
    "def CheckPrime(x):\n",
    "    dem=0\n",
    "    for i in range(1,x+1):\n",
    "        if x%i==0:\n",
    "            dem+=1\n",
    "    return dem==2\n",
    "s=\"5;7;8;-2;8;11;-13;9;10\"\n",
    "arr=s.split(';')\n",
    "sochan=0\n",
    "soam=0\n",
    "sont=0\n",
    "sum=0\n",
    "for x in arr:\n",
    "    print(x)\n",
    "    number=int(x)\n",
    "    if number%2==0:\n",
    "        sochan+=1\n",
    "    if number<0:\n",
    "        soam+=1\n",
    "    if CheckPrime(number):\n",
    "        sont+=1\n",
    "    sum+=number\n",
    "print(\"Số chẵn: \",sochan)\n",
    "print(\"Số âm: \",soam)\n",
    "print(\"Số nguyên tố: \",sont)\n",
    "print(\"Trung bình: \",sum/len(arr))"
   ]
  },
  {
   "cell_type": "markdown",
   "id": "0bdd0227",
   "metadata": {},
   "source": [
    "#Câu 4\n",
    "Một số hàm quan trọng trong xử lý chuỗi của Python:\n",
    "\n",
    "- `len(s)` : Trả về độ dài chuỗi `s`.\n",
    "- `s.upper()` : Chuyển chuỗi sang chữ hoa.\n",
    "- `s.lower()` : Chuyển chuỗi sang chữ thường.\n",
    "- `s.strip()` : Loại bỏ khoảng trắng ở đầu và cuối chuỗi.\n",
    "- `s.replace(a, b)` : Thay thế tất cả ký tự/chuỗi `a` bằng `b`.\n",
    "- `s.split(ký_tự)` : Tách chuỗi thành danh sách dựa trên ký tự phân cách.\n",
    "- `s.join(list)` : Ghép các phần tử trong list thành chuỗi, dùng chuỗi `s` làm phân cách.\n",
    "- `s.find(sub)` : Tìm vị trí xuất hiện đầu tiên của chuỗi con `sub` trong chuỗi `s`, trả về -1 nếu không tìm thấy.\n",
    "- `s.count(sub)` : Đếm số lần xuất hiện của chuỗi con `sub` trong chuỗi `s`.\n",
    "- `s.startswith(prefix)` : Kiểm tra chuỗi có bắt đầu bằng `prefix` không.\n",
    "- `s.endswith(suffix)` : Kiểm tra chuỗi có kết thúc bằng `suffix` không.\n",
    "*Ngoài ra:\n",
    "- s.isalpha(): Kiểm tra chuỗi chỉ gồm chữ cái\n",
    "- s.title() : Viết hoa chữ cái đầu mỗi từ.\n",
    "- s.capitalize() : Viết hoa chữ cái đầu chuỗi.\n",
    "- s.isdigit() : Kiểm tra chuỗi có phải toàn số không.\n",
    "- s.isalpha() : Kiểm tra chuỗi có phải toàn chữ cái không.\n",
    "- s.islower() : Kiểm tra chuỗi có phải toàn chữ thường không.\n",
    "- s.isupper() : Kiểm tra chuỗi có phải toàn chữ hoa không.\n",
    "- s.rfind(sub) : Tìm vị trí xuất hiện cuối cùng của chuỗi con.\n",
    "- s.index(sub) : Tìm vị trí đầu tiên của chuỗi con, lỗi nếu không tìm thấy.\n",
    "- s.isalnum(): Kiểm tra chuỗi gồm chữ cái và số\n",
    "- s.isspace(): Kiểm tra chuỗi chỉ gồm khoảng trắng"
   ]
  },
  {
   "cell_type": "code",
   "execution_count": 15,
   "id": "1648eafd",
   "metadata": {},
   "outputs": [
    {
     "name": "stdout",
     "output_type": "stream",
     "text": [
      "Số chữ IN HOA: 3\n",
      "Số chữ in thường: 9\n",
      "Số chữ là chữ số: 0\n",
      "Số chữ là ký tự đặc biệt: 0\n",
      "Số chữ là khoảng trắng: 2\n",
      "Số chữ là nguyên âm: 3\n",
      "Số chữ là phụ âm: 9\n"
     ]
    }
   ],
   "source": [
    "#Câu 5\n",
    "s = input(\"Nhập vào một chuỗi: \")\n",
    "\n",
    "in_hoa = 0\n",
    "in_thuong = 0\n",
    "so = 0\n",
    "dac_biet = 0\n",
    "khoang_trang = 0\n",
    "nguyen_am = 0\n",
    "phu_am = 0\n",
    "\n",
    "nguyen_am_list = \"aeiouAEIOU\"\n",
    "\n",
    "for c in s:\n",
    "    if c.isupper():\n",
    "        in_hoa += 1\n",
    "    if c.islower():\n",
    "        in_thuong += 1\n",
    "    if c.isdigit():\n",
    "        so += 1\n",
    "    if not c.isalnum() and not c.isspace():\n",
    "        dac_biet += 1\n",
    "    if c.isspace():\n",
    "        khoang_trang += 1\n",
    "    if c.isalpha():\n",
    "        if c in nguyen_am_list:\n",
    "            nguyen_am += 1\n",
    "        else:\n",
    "            phu_am += 1\n",
    "\n",
    "print(\"Số chữ IN HOA:\", in_hoa)\n",
    "print(\"Số chữ in thường:\", in_thuong)\n",
    "print(\"Số chữ là chữ số:\", so)\n",
    "print(\"Số chữ là ký tự đặc biệt:\", dac_biet)\n",
    "print(\"Số chữ là khoảng trắng:\", khoang_trang)\n",
    "print(\"Số chữ là nguyên âm:\", nguyen_am)\n",
    "print(\"Số chữ là phụ âm:\", phu_am)"
   ]
  },
  {
   "cell_type": "code",
   "execution_count": 16,
   "id": "68b2c834",
   "metadata": {},
   "outputs": [
    {
     "name": "stdout",
     "output_type": "stream",
     "text": [
      "Chuỗi tối ưu: Ma Gia Ky\n"
     ]
    }
   ],
   "source": [
    "#Câu 6: Tối ưu chuỗi danh từ\n",
    "def ToiUuChuoiDanhTu(s):\n",
    "    # Loại bỏ khoảng trắng đầu/cuối và chuyển về dạng chuẩn\n",
    "    s = s.strip()\n",
    "    # Tách các từ, loại bỏ khoảng trắng dư thừa\n",
    "    arr = s.split()\n",
    "    # Viết hoa chữ cái đầu mỗi từ, các chữ còn lại viết thường\n",
    "    arr = [word.capitalize() for word in arr]\n",
    "    # Ghép lại thành chuỗi với khoảng trắng giữa các từ\n",
    "    return ' '.join(arr)\n",
    "\n",
    "chuoi = input(\"Nhập chuỗi danh từ: \")\n",
    "print(\"Chuỗi tối ưu:\", ToiUuChuoiDanhTu(chuoi))"
   ]
  },
  {
   "cell_type": "code",
   "execution_count": 19,
   "id": "211e85e2",
   "metadata": {},
   "outputs": [
    {
     "name": "stdout",
     "output_type": "stream",
     "text": [
      "Tên file (có đuôi): Lạnh lẽo.ost\n",
      "Tên file (không đuôi): Lạnh lẽo\n"
     ]
    }
   ],
   "source": [
    "# Hàm lấy tên file (bao gồm cả đuôi mở rộng)\n",
    "def lay_ten_file(path):\n",
    "    return path.split(\"\\\\\")[-1]\n",
    "\n",
    "# Hàm lấy tên file (không bao gồm đuôi mở rộng)\n",
    "def lay_ten_file_khong_duoi(path):\n",
    "    ten_file = lay_ten_file(path)\n",
    "    return ten_file.rsplit('.', 1)[0]\n",
    "\n",
    "# Ví dụ sử dụng\n",
    "duong_dan = input(\"Nhập đường dẫn file nhạc: \")\n",
    "print(\"Tên file (có đuôi):\", lay_ten_file(duong_dan))\n",
    "print(\"Tên file (không đuôi):\", lay_ten_file_khong_duoi(duong_dan))"
   ]
  }
 ],
 "metadata": {
  "kernelspec": {
   "display_name": "Python 3",
   "language": "python",
   "name": "python3"
  },
  "language_info": {
   "codemirror_mode": {
    "name": "ipython",
    "version": 3
   },
   "file_extension": ".py",
   "mimetype": "text/x-python",
   "name": "python",
   "nbconvert_exporter": "python",
   "pygments_lexer": "ipython3",
   "version": "3.9.13"
  }
 },
 "nbformat": 4,
 "nbformat_minor": 5
}
