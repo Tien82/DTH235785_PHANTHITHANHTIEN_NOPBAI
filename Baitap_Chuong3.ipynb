{
 "cells": [
  {
   "cell_type": "code",
   "execution_count": 2,
   "id": "79c8525b",
   "metadata": {},
   "outputs": [
    {
     "name": "stdout",
     "output_type": "stream",
     "text": [
      "Chương trình kiểm tra năm nhuần\n",
      "Năm  2024  là năm nhuần\n"
     ]
    }
   ],
   "source": [
    "#Câu 1:\n",
    "print(\"Chương trình kiểm tra năm nhuần\")\n",
    "year=int(input(\"Mời Thím nhập vào 1 năm:\"))\n",
    "if (year % 4 ==0 and year % 100 != 0) or year % 400 == 0:\n",
    " print(\"Năm \", year, \" là năm nhuần\")\n",
    "else:\n",
    " print(\"Năm \", year, \" không nhuần\")"
   ]
  },
  {
   "cell_type": "code",
   "execution_count": 4,
   "id": "a109344f",
   "metadata": {},
   "outputs": [
    {
     "name": "stdout",
     "output_type": "stream",
     "text": [
      "Chương trình đếm số ngày trong tháng\n",
      "Tháng  7  có 31 ngày\n"
     ]
    }
   ],
   "source": [
    "#Câu 2:\n",
    "print(\"Chương trình đếm số ngày trong tháng\")\n",
    "month=int(input(\"Nhập vào 1 tháng:\"))\n",
    "if month in (1,3,5,7,8,10,12):\n",
    " print(\"Tháng \", month, \" có 31 ngày\")\n",
    "elif month in (4,6,9,11):\n",
    " print(\"Tháng \", month, \" có 30 ngày\")\n",
    "elif month==2:\n",
    " year=int(input(\"Mời bạn nhập vào năm:\"))\n",
    " if (year % 4 ==0 and year % 100 != 0) or (year % 400 ==0):\n",
    "     print(\"Tháng \",month, \" có 29 ngày\")\n",
    " else:\n",
    "     print(\"Tháng \", month, \" có 28 ngày\")\n",
    "else:\n",
    " print(\"Tháng \", month, \" không hợp lệ\")"
   ]
  },
  {
   "cell_type": "code",
   "execution_count": 21,
   "id": "c1cac797",
   "metadata": {},
   "outputs": [
    {
     "name": "stdout",
     "output_type": "stream",
     "text": [
      "Chương trình Giải Phương trình bậc 2\n",
      "Vô Nghiệm\n"
     ]
    }
   ],
   "source": [
    "#Câu 3:\n",
    "#ax^2+bx+c=0\n",
    "from math import sqrt\n",
    "print(\"Chương trình Giải Phương trình bậc 2\")\n",
    "a=float(input(\"Nhập a:\"))\n",
    "b=float(input(\"Nhập b:\"))\n",
    "c=float(input(\"Nhập c:\"))\n",
    "if a == 0:\n",
    " #bx+c=0\n",
    " if b == 0 and c ==0:\n",
    "     print(\"Vô số nghiệm\")\n",
    " elif b==0 and c !=0:\n",
    "     print(\"Vô nghiệm\")\n",
    " else:\n",
    "     x=-c/b\n",
    "     print(\"Nghiệm x=\",x)\n",
    "else:\n",
    " delta=b**2-4*a*c\n",
    " if delta <0 :\n",
    "    print(\"Vô Nghiệm\")\n",
    " elif delta ==0:\n",
    "    x=-b/(2*a)\n",
    "    print(\"NNghiệm kép x1=x2=\",x)\n",
    " else:\n",
    "    x1=(-b+sqrt(delta))/(2*a)\n",
    "    x2=(-b-sqrt(delta))/(2*a)\n",
    "    print(\"x1=\",x1)\n",
    "    print(\"x2=\",x2)\n"
   ]
  },
  {
   "cell_type": "code",
   "execution_count": 20,
   "id": "ad293552",
   "metadata": {},
   "outputs": [
    {
     "name": "stdout",
     "output_type": "stream",
     "text": [
      "(a) x == 3: True\n",
      "(b) x < y: True\n",
      "(c) x >= y: False\n",
      "(d) x <= y: True\n",
      "(e) x != y - 2: False\n",
      "(f) x < 10: True\n",
      "(g) x >= 0 and x < 10: True\n",
      "(h) x < 0 and x < 10: False\n",
      "(i) x >= 0 and x < 2: False\n",
      "(j) x < 0 or x < 10: True\n",
      "(k) x > 0 or x < 10: True\n",
      "(l) x < 0 or x > 10: False\n"
     ]
    }
   ],
   "source": [
    "#Câu 4: \n",
    "x, y, z = 3, 5, 7\n",
    "\n",
    "print(\"(a) x == 3:\", x == 3)\n",
    "print(\"(b) x < y:\", x < y)\n",
    "print(\"(c) x >= y:\", x >= y)\n",
    "print(\"(d) x <= y:\", x <= y)\n",
    "print(\"(e) x != y - 2:\", x != y - 2)\n",
    "print(\"(f) x < 10:\", x < 10)\n",
    "print(\"(g) x >= 0 and x < 10:\", x >= 0 and x < 10)\n",
    "print(\"(h) x < 0 and x < 10:\", x < 0 and x < 10)\n",
    "print(\"(i) x >= 0 and x < 2:\", x >= 0 and x < 2)\n",
    "print(\"(j) x < 0 or x < 10:\", x < 0 or x < 10)\n",
    "print(\"(k) x > 0 or x < 10:\", x > 0 or x < 10)\n",
    "print(\"(l) x < 0 or x > 10:\", x < 0 or x > 10)"
   ]
  },
  {
   "cell_type": "code",
   "execution_count": 8,
   "id": "922c92bf",
   "metadata": {},
   "outputs": [
    {
     "name": "stdout",
     "output_type": "stream",
     "text": [
      "(a):\n",
      "i = 5 , j = 5 , k = 7\n",
      "(b):\n",
      "i = 3 , j = 5 , k = 5\n",
      "(c):\n",
      "i = 7 , j = 3 , k = 7\n",
      "(d):\n",
      "i = 5 , j = 3 , k = 3\n",
      "(e):\n",
      "i = 5 , j = 3 , k = 5\n",
      "(f):\n",
      "i = 7 , j = 7 , k = 3\n"
     ]
    }
   ],
   "source": [
    "#Câu 5: \n",
    "def print_values(i, j, k):\n",
    "    if i<j:\n",
    "        if j<k:\n",
    "            i=j\n",
    "        else:\n",
    "            j=k\n",
    "    else:\n",
    "        if j>k:\n",
    "            j=i\n",
    "        else:\n",
    "            i=k\n",
    "    print(\"i =\",i,\", j =\",j,\", k =\",k)\n",
    "\n",
    "# (a)\n",
    "print(\"(a):\")\n",
    "print_values(3, 5, 7)\n",
    "\n",
    "# (b)\n",
    "print(\"(b):\")\n",
    "print_values(3, 7, 5)\n",
    "\n",
    "# (c)\n",
    "print(\"(c):\")\n",
    "print_values(5, 3, 7)\n",
    "\n",
    "# (d)\n",
    "print(\"(d):\")\n",
    "print_values(5, 7, 3)\n",
    "\n",
    "# (e)\n",
    "print(\"(e):\")\n",
    "print_values(7, 3, 5)\n",
    "\n",
    "# (f)\n",
    "print(\"(f):\")\n",
    "print_values(7, 5, 3)"
   ]
  },
  {
   "cell_type": "code",
   "execution_count": 65,
   "id": "adb9297b",
   "metadata": {},
   "outputs": [
    {
     "name": "stdout",
     "output_type": "stream",
     "text": [
      "Chương trình đọc số thành chữ\n",
      "Vui lòng nhập số trong khoảng từ 0 đến 99.\n",
      "None\n"
     ]
    }
   ],
   "source": [
    "#Câu 6\n",
    "print(\"Chương trình đọc số thành chữ\")\n",
    "n = int(input(\"Nhập số nguyên từ 0 đến 99: \"))\n",
    "print(doc_so(n))\n",
    "def doc_so(n):\n",
    "    chu_so = [\"không\", \"một\", \"hai\", \"ba\", \"bốn\", \"năm\", \"sáu\", \"bảy\", \"tám\", \"chín\"]\n",
    "    if n < 10:\n",
    "        return chu_so[n]\n",
    "    elif n==0:\n",
    "        return chu_so[donvi]\n",
    "    elif n < 100:\n",
    "        chuc = n // 10\n",
    "        donvi = n % 10\n",
    "        doc_chuc = \"mười\" if chuc == 1 else chu_so[chuc] + \" mươi\"\n",
    "        if donvi == 0:\n",
    "            return doc_chuc\n",
    "        elif donvi == 1 and chuc > 1:\n",
    "            return doc_chuc + \" mốt\"\n",
    "        elif donvi == 5:\n",
    "            return doc_chuc + \" lăm\"\n",
    "        else:\n",
    "            return doc_chuc + \" \" + chu_so[donvi]\n",
    "    if 0 <= n <= 99:\n",
    "        print(\"Cách đọc số là: \" + doc_so(n))\n",
    "    else:\n",
    "        print(\"Vui lòng nhập số trong khoảng từ 0 đến 99.\")\n"
   ]
  },
  {
   "cell_type": "code",
   "execution_count": 50,
   "id": "5baafba2",
   "metadata": {},
   "outputs": [
    {
     "name": "stdout",
     "output_type": "stream",
     "text": [
      "Nhập vào một ngày(ngày,tháng,năm) và in ra ngày tiếp theo\n",
      "Ngày bạn vừa nhập là: -1/12/2024\n",
      "Ngày tháng không hợp lệ\n"
     ]
    }
   ],
   "source": [
    "#Câu 7:\n",
    "print(\"Nhập vào một ngày(ngày,tháng,năm) và in ra ngày tiếp theo\")\n",
    "day = int(input(\"Ngày: \"))\n",
    "month = int(input(\"Tháng: \"))\n",
    "year = int(input(\"Năm: \"))\n",
    "print(\"Ngày bạn vừa nhập là: {}/{}/{}\".format(day, month, year))\n",
    "if month < 1 or month > 12 or day < 1 or day > 31:\n",
    "    print(\"Ngày tháng không hợp lệ\")\n",
    "elif month in (4, 6, 9, 11) and day > 30:\n",
    "    print(\"Ngày tháng không hợp lệ\")\n",
    "elif month == 2:\n",
    "    if (year % 4 == 0 and year % 100 != 0) or (year % 400 == 0):\n",
    "        if day > 29:\n",
    "            print(\"Ngày tháng không hợp lệ\")\n",
    "        else:\n",
    "            day = 1\n",
    "            month += 1\n",
    "            print(\"Ngày tiếp theo là: {}/{}/{}\".format(day, month, year))\n",
    "\n",
    "    else:\n",
    "        if day > 28:\n",
    "            print(\"Ngày tháng không hợp lệ\")\n",
    "else:\n",
    "    if day == 31:\n",
    "        if month == 12:\n",
    "            day = 1\n",
    "            month = 1\n",
    "            year += 1\n",
    "        else:\n",
    "            day = 1\n",
    "            month += 1\n",
    "    else:\n",
    "        day += 1\n",
    "    print(\"Ngày tiếp theo là: {}/{}/{}\".format(day, month, year))\n"
   ]
  },
  {
   "cell_type": "code",
   "execution_count": 56,
   "id": "d97d8c46",
   "metadata": {},
   "outputs": [
    {
     "name": "stdout",
     "output_type": "stream",
     "text": [
      "--Nhập giá trị a--\n",
      "Giá trị a vừa nhập là: 3\n",
      "--Nhập giá trị b--\n",
      "Giá trị b vừa nhập là: 5\n",
      "--Nhập phép tính (+,-,*,/)--\n",
      "Phép tính vừa nhập là: *\n",
      "Kết quả a * b = 15\n"
     ]
    }
   ],
   "source": [
    "#Câu 8:\n",
    "print(\"--Nhập giá trị a--\") \n",
    "a=int(input())\n",
    "print(\"Giá trị a vừa nhập là:\",a)\n",
    "print(\"--Nhập giá trị b--\")\n",
    "b=int(input())\n",
    "print(\"Giá trị b vừa nhập là:\",b)\n",
    "print(\"--Nhập phép tính (+,-,*,/)--\")\n",
    "Pheptoan=input()\n",
    "print(\"Phép tính vừa nhập là:\",Pheptoan)\n",
    "if Pheptoan=='+':\n",
    "    print(\"Kết quả a + b =\",a+b)\n",
    "elif Pheptoan=='-':\n",
    "    print(\"Kết quả a - b =\",a-b)\n",
    "elif Pheptoan=='*':\n",
    "    print(\"Kết quả a * b =\",a*b)\n",
    "elif Pheptoan=='/':\n",
    "    if b==0:\n",
    "        print(\"Không thể chia cho 0\")\n",
    "    else:\n",
    "        print(\"Kết quả a / b =\",a/b)\n",
    "else:\n",
    "    print(\"Phép tính không hợp lệ\")\n"
   ]
  },
  {
   "cell_type": "code",
   "execution_count": 1,
   "id": "a8e35c41",
   "metadata": {},
   "outputs": [
    {
     "name": "stdout",
     "output_type": "stream",
     "text": [
      "Nhập vào 1 tháng và in tháng đó thuộc quý mấy trong năm  \n",
      "Tháng 9 thuộc quý 3\n"
     ]
    }
   ],
   "source": [
    "#Câu 9\n",
    "print(\"Nhập vào 1 tháng và in tháng đó thuộc quý mấy trong năm  \")\n",
    "month=int(input(\"Nhập vào 1 tháng:\"))\n",
    "if month in (1,2,3):\n",
    "    print(\"Tháng\",month,\"thuộc quý 1\")\n",
    "elif month in (4,5,6):\n",
    "    print(\"Tháng\",month,\"thuộc quý 2\")\n",
    "elif month in (7,8,9):\n",
    "    print(\"Tháng\",month,\"thuộc quý 3\")\n",
    "elif month in (10,11,12):\n",
    "    print(\"Tháng\",month,\"thuộc quý 4\")\n",
    "else:\n",
    "    print(\"Tháng không hợp lệ\")"
   ]
  },
  {
   "cell_type": "code",
   "execution_count": 2,
   "id": "cc8c00b3",
   "metadata": {},
   "outputs": [
    {
     "name": "stdout",
     "output_type": "stream",
     "text": [
      "s(2,3)=5.333333333333333\n"
     ]
    }
   ],
   "source": [
    "x=int(input(\"Nhập x:\"))\n",
    "n=int(input(\"Nhập N:\"))\n",
    "s=0\n",
    "for i in range(1,n+1):\n",
    " tu=x**i\n",
    " mau=1\n",
    " for j in range(1,i+1):\n",
    "     mau=mau*j\n",
    " s=s+(tu/mau)\n",
    "print(\"s({0},{1})={2}\".format(x,n,s))"
   ]
  },
  {
   "cell_type": "code",
   "execution_count": 5,
   "id": "192a3ad0",
   "metadata": {},
   "outputs": [
    {
     "name": "stdout",
     "output_type": "stream",
     "text": [
      "9 không phải số nguyên tố\n"
     ]
    }
   ],
   "source": [
    "#Câu 11\n",
    "while True:\n",
    "    n=int(input(\"Nhập 1 số nguyên dương:\"))\n",
    "    dem=0\n",
    "    for i in range(1,n+1):\n",
    "        if n%i==0:\n",
    "            dem+=1\n",
    "    if dem==2:\n",
    "        print(n,\"là số nguyên tố\")\n",
    "    else:\n",
    "        print(n,\"không phải số nguyên tố\")\n",
    "    hoi= input(\"Bạn có muốn tiếp tục không (c/k): \")\n",
    "    if hoi + \"k\":\n",
    "        break\n",
    "    print(\"Bye\")\n"
   ]
  },
  {
   "cell_type": "code",
   "execution_count": 6,
   "id": "d3a6d14b",
   "metadata": {},
   "outputs": [
    {
     "name": "stdout",
     "output_type": "stream",
     "text": [
      "2* 1= 2\t3* 1= 3\t4* 1= 4\t5* 1= 5\t6* 1= 6\t7* 1= 7\t8* 1= 8\t9* 1= 9\t\n",
      "2* 2= 4\t3* 2= 6\t4* 2= 8\t5* 2=10\t6* 2=12\t7* 2=14\t8* 2=16\t9* 2=18\t\n",
      "2* 3= 6\t3* 3= 9\t4* 3=12\t5* 3=15\t6* 3=18\t7* 3=21\t8* 3=24\t9* 3=27\t\n",
      "2* 4= 8\t3* 4=12\t4* 4=16\t5* 4=20\t6* 4=24\t7* 4=28\t8* 4=32\t9* 4=36\t\n",
      "2* 5=10\t3* 5=15\t4* 5=20\t5* 5=25\t6* 5=30\t7* 5=35\t8* 5=40\t9* 5=45\t\n",
      "2* 6=12\t3* 6=18\t4* 6=24\t5* 6=30\t6* 6=36\t7* 6=42\t8* 6=48\t9* 6=54\t\n",
      "2* 7=14\t3* 7=21\t4* 7=28\t5* 7=35\t6* 7=42\t7* 7=49\t8* 7=56\t9* 7=63\t\n",
      "2* 8=16\t3* 8=24\t4* 8=32\t5* 8=40\t6* 8=48\t7* 8=56\t8* 8=64\t9* 8=72\t\n",
      "2* 9=18\t3* 9=27\t4* 9=36\t5* 9=45\t6* 9=54\t7* 9=63\t8* 9=72\t9* 9=81\t\n",
      "2*10=20\t3*10=30\t4*10=40\t5*10=50\t6*10=60\t7*10=70\t8*10=80\t9*10=90\t\n"
     ]
    }
   ],
   "source": [
    "#Câu 12\n",
    "for i in range(1,11):\n",
    " for j in range(2,10):\n",
    "     line=\"{0}*{1:>2}={2:>2}\".format(j,i,i*j)\n",
    "     print(line,end='\\t')\n",
    " print()\n"
   ]
  },
  {
   "cell_type": "code",
   "execution_count": 28,
   "id": "70ada4bf",
   "metadata": {},
   "outputs": [
    {
     "name": "stdout",
     "output_type": "stream",
     "text": [
      "Cho biết bao nhiêu dấu * được in ra màn hình\n",
      "****************************************************************************************************\n",
      "Tổng số dấu * là: 100\n"
     ]
    }
   ],
   "source": [
    "#Câu 13\n",
    "print(\"Cho biết bao nhiêu dấu * được in ra màn hình\")\n",
    "dem=0\n",
    "a=0\n",
    "while a<100:\n",
    "     print(\"*\",end='')\n",
    "     dem+=1\n",
    "     a+=1\n",
    "print()\n",
    "print(\"Tổng số dấu * là:\",dem) "
   ]
  },
  {
   "cell_type": "code",
   "execution_count": 25,
   "id": "7a1c2652",
   "metadata": {},
   "outputs": [
    {
     "name": "stdout",
     "output_type": "stream",
     "text": [
      "Cho biết bao nhiêu dấu * được in ra màn hình\n",
      "********************\n",
      "********************\n",
      "********************\n",
      "********************\n",
      "********************\n",
      "********************\n",
      "********************\n",
      "********************\n",
      "********************\n",
      "********************\n",
      "********************\n",
      "********************\n",
      "********************\n",
      "********************\n",
      "********************\n",
      "********************\n",
      "********************\n",
      "********************\n",
      "********************\n",
      "********************\n",
      "********************\n",
      "********************\n",
      "********************\n",
      "********************\n",
      "********************\n",
      "********************\n",
      "********************\n",
      "********************\n",
      "********************\n",
      "********************\n",
      "********************\n",
      "********************\n",
      "********************\n",
      "********************\n",
      "********************\n",
      "********************\n",
      "********************\n",
      "********************\n",
      "********************\n",
      "********************\n",
      "********************\n",
      "********************\n",
      "********************\n",
      "********************\n",
      "********************\n",
      "********************\n",
      "********************\n",
      "********************\n",
      "********************\n",
      "********************\n",
      "********************\n",
      "********************\n",
      "********************\n",
      "********************\n",
      "********************\n",
      "********************\n",
      "********************\n",
      "********************\n",
      "********************\n",
      "********************\n",
      "********************\n",
      "********************\n",
      "********************\n",
      "********************\n",
      "********************\n",
      "********************\n",
      "********************\n",
      "********************\n",
      "********************\n",
      "********************\n",
      "********************\n",
      "********************\n",
      "********************\n",
      "********************\n",
      "********************\n",
      "********************\n",
      "********************\n",
      "********************\n",
      "********************\n",
      "********************\n",
      "********************\n",
      "********************\n",
      "********************\n",
      "********************\n",
      "********************\n",
      "********************\n",
      "********************\n",
      "********************\n",
      "********************\n",
      "********************\n",
      "********************\n",
      "********************\n",
      "********************\n",
      "********************\n",
      "********************\n",
      "********************\n",
      "********************\n",
      "********************\n",
      "********************\n",
      "********************\n",
      "Tổng số dấu * là: 2000\n"
     ]
    }
   ],
   "source": [
    "#Câu 14\n",
    "print(\"Cho biết bao nhiêu dấu * được in ra màn hình\")\n",
    "dem=0\n",
    "a=0\n",
    "while a<100:\n",
    "    b=0\n",
    "    while b<40:\n",
    "        if(a+b)%2==0:\n",
    "            print(\"*\",end='')\n",
    "            dem+=1\n",
    "        b+=1\n",
    "    print()\n",
    "    a+=1  \n",
    "print(\"Tổng số dấu * là:\",dem)"
   ]
  },
  {
   "cell_type": "markdown",
   "id": "a70e0e00",
   "metadata": {},
   "source": [
    "# Câu 15\n",
    "**(a) range(5)**  \n",
    "Bắt đầu từ 0 (mặc định), tăng từng đơn vị đến trước 5.  \n",
    "Kết quả: `[0, 1, 2, 3, 4]`\n",
    "\n",
    "**(b) range(5, 10)**  \n",
    "Bắt đầu từ 5, tăng từng đơn vị đến trước 10.  \n",
    "Kết quả: `[5, 6, 7, 8, 9]`\n",
    "\n",
    "**(c) range(5, 20, 3)**  \n",
    "Bắt đầu từ 5, mỗi bước tăng 3, dừng trước 20.  \n",
    "Kết quả: `[5, 8, 11, 14, 17]`\n",
    "\n",
    "**(d) range(20, 5, -1)**  \n",
    "Bắt đầu từ 20, giảm từng đơn vị đến trước 5.  \n",
    "Kết quả: `[20, 19, 18, ..., 6]`\n",
    "\n",
    "**(e) range(20, 5, -3)**  \n",
    "Bắt đầu từ 20, mỗi bước giảm 3, dừng trước 5.  \n",
    "Kết quả: `[20, 17, 14, 11, 8]`\n",
    "\n",
    "**(f) range(10, 5)**  \n",
    "Không có bước nhảy âm, nên không tạo ra giá trị nào.  \n",
    "Kết quả: `[]`\n",
    "\n",
    "**(g) range(0)**  \n",
    "Dừng ngay tại 0, không có giá trị nào.  \n",
    "Kết quả: `[]`\n",
    "\n",
    "**(h) range(10, 101, 10)**  \n",
    "Bắt đầu từ 10, mỗi bước tăng 10, dừng trước 101.  \n",
    "Kết quả: `[10, 20, 30, ..., 100]`\n",
    "\n",
    "**(i) range(10, -1, -1)**  \n",
    "Bắt đầu từ 10, giảm từng đơn vị đến trước -1.  \n",
    "Kết quả: `[10, 9, 8, ..., 0]`\n",
    "\n",
    "**(j) range(-3, 4)**  \n",
    "Bắt đầu từ -3, tăng từng đơn vị đến trước 4.  \n",
    "Kết quả: `[-3, -2, -1, 0, 1, 2, 3]`\n",
    "\n",
    "**(k) range(0, 10, 1)**  \n",
    "Bắt đầu từ 0, tăng từng đơn vị đến trước 10.  \n",
    "Kết quả: `[0, 1, 2, ..., 9]`\n"
   ]
  },
  {
   "cell_type": "code",
   "execution_count": 1,
   "id": "ee5dc4ca",
   "metadata": {},
   "outputs": [
    {
     "name": "stdout",
     "output_type": "stream",
     "text": [
      "Cho biết bao nhiêu dấu * được in ra màn hình\n",
      "****************\n",
      "Tổng số dấu * là: 16\n"
     ]
    }
   ],
   "source": [
    "#Câu 16\n",
    "print(\"Cho biết bao nhiêu dấu * được in ra màn hình\")\n",
    "dem=0\n",
    "for a in range(20,100,5):\n",
    "    print(\"*\",end='')\n",
    "    dem+=1\n",
    "print()\n",
    "print(\"Tổng số dấu * là:\",dem)"
   ]
  },
  {
   "cell_type": "code",
   "execution_count": 4,
   "id": "8936467b",
   "metadata": {},
   "outputs": [
    {
     "name": "stdout",
     "output_type": "stream",
     "text": [
      "n = -7\n"
     ]
    }
   ],
   "source": [
    "#Câu 17\n",
    "n, m = 0, 100\n",
    "while n != m:\n",
    "    n = int(input())\n",
    "    if n < 0:\n",
    "        print(\"n =\", n)\n",
    "        break"
   ]
  },
  {
   "cell_type": "code",
   "execution_count": null,
   "id": "75c01d5a",
   "metadata": {},
   "outputs": [
    {
     "name": "stdout",
     "output_type": "stream",
     "text": [
      "* * * * * * \n",
      "*         *\n",
      "*         *\n",
      "*         *\n",
      "*         *\n",
      "* * * * * * \n",
      "     *\n",
      "    **\n",
      "   ***\n",
      "  ****\n",
      " *****\n",
      "******\n",
      "*\n",
      "* *\n",
      "*   *\n",
      "*     *\n",
      "*       *\n",
      "*         *\n",
      "* * * * * * * * * * * * *\n",
      "              *         *\n",
      "                *       *\n",
      "                  *     *\n",
      "                    *   *\n",
      "                      * *\n",
      "                        *\n"
     ]
    }
   ],
   "source": [
    "#Câu 18\n",
    "n = int(input(\"Nhập chiều cao của hình: \"))\n",
    "#hình vuông\n",
    "for i in range(n):\n",
    "    if i == 0 or i == n - 1:           # hàng đầu & cuối\n",
    "        print(\"* \" * n)\n",
    "    else:                              # hàng giữa\n",
    "        print(\"* \" + \"  \" * (n - 2) + \"*\") #số 2 trong (n-2) là * ở đầu và cuối hàng giữa\n",
    "\n",
    "#hình tam giác vuông\n",
    "for i in range(1, n + 1):\n",
    "    print(\" \" * (n - i) + \"*\" * i)\n",
    "\n",
    "#hình 2 tam giác vuông chéo nhau\n",
    "def ve_hinh(n):\n",
    "    # Nửa trên (viền trái-phải)\n",
    "    for i in range(n):\n",
    "        if i == 0:\n",
    "            print(\"*\")\n",
    "        else:\n",
    "            print(\"*\" + \" \" * (2*i - 1) + \"*\")\n",
    "    # Hàng giữa: 2n+1 dấu *\n",
    "    print(\" \".join(\"*\" for _ in range(2*n + 1)))\n",
    "    # Nửa dưới (lệch phải)\n",
    "    base_indent = 2 * (n + 1)\n",
    "    for i in range(n-1, -1, -1):\n",
    "        indent = base_indent + 2*((n-1) - i)\n",
    "        if i == 0:\n",
    "            print(\" \" * indent + \"*\")\n",
    "        else:\n",
    "            print(\" \" * indent + \"*\" + \" \" * (2*i - 1) + \"*\")\n",
    "ve_hinh(n)\n"
   ]
  },
  {
   "cell_type": "code",
   "execution_count": 32,
   "id": "953cf440",
   "metadata": {},
   "outputs": [
    {
     "name": "stdout",
     "output_type": "stream",
     "text": [
      "* \n",
      "* * \n",
      "*   * \n",
      "*     * \n",
      "*       * \n",
      "*         * \n",
      "*           * \n",
      "*             * \n",
      "*               * \n",
      "*                 * \n",
      "* * * * * * * * * * * * * * * * * * * * * \n",
      "                      *                 * \n",
      "                        *               * \n",
      "                          *             * \n",
      "                            *           * \n",
      "                              *         * \n",
      "                                *       * \n",
      "                                  *     * \n",
      "                                    *   * \n",
      "                                      * * \n",
      "                                        * \n",
      "=======================================\n",
      "\n",
      "CHUONG TRINH KET THUC!\n",
      "CHUC BAN MOT NGAY VUI!!!\n",
      "=======================================\n",
      "\n"
     ]
    }
   ],
   "source": [
    "#Bai18.3\n",
    "n = int(input(\"Nhap kich thuoc canh tam giac: \"))\n",
    "\n",
    "# ===== PHẦN 1: Hai tam giác rỗng ghép cạnh trái =====\n",
    "for i in range(1, n + 1):\n",
    "    if i < n:\n",
    "        for j in range(i):\n",
    "            if j == 0 or j == i - 1:  # In cạnh trái hoặc cạnh chéo\n",
    "                print(\"*\", end=\" \")\n",
    "            else:\n",
    "                print(\" \", end=\" \")\n",
    "        print()\n",
    "    else:\n",
    "        # Dòng cuối in full sao\n",
    "        for j in range(2 * n - 1):\n",
    "            print(\"*\", end=\" \")\n",
    "        print()\n",
    "\n",
    "# ===== PHẦN 2: Tam giác ngược bên phải =====\n",
    "for i in range(1, n):  # Có n-1 dòng\n",
    "    spaces = 2 * n + 2 * (i - 1)  # Dịch sang phải chuẩn xác\n",
    "    print(\" \" * spaces, end=\"\")\n",
    "\n",
    "    cols = n - i  # Số cột hiện tại\n",
    "    for j in range(cols):\n",
    "        if j == 0 or j == cols - 1:\n",
    "            print(\"*\", end=\" \")\n",
    "        else:\n",
    "            print(\" \", end=\" \")\n",
    "    print()\n",
    "\n",
    "print(\"=======================================\\n\")\n",
    "print(\"CHUONG TRINH KET THUC!\\nCHUC BAN MOT NGAY VUI!!!\")\n",
    "print(\"=======================================\\n\")"
   ]
  },
  {
   "cell_type": "code",
   "execution_count": 2,
   "id": "87775d8c",
   "metadata": {},
   "outputs": [
    {
     "name": "stdout",
     "output_type": "stream",
     "text": [
      "s(4,5) = 23.2783\n"
     ]
    }
   ],
   "source": [
    "#Câu 19\n",
    "x = int(input(\"Nhập x: \"))\n",
    "n = int(input(\"Nhập N: \"))\n",
    "s = 0\n",
    "\n",
    "for i in range(1, n + 1):\n",
    "    mu = 2 * i + 1           # Số mũ là 2n + 1\n",
    "    tu = x ** mu             # Tử số: x^(2i + 1)\n",
    "    mau = 1\n",
    "    for j in range(1, mu + 1):\n",
    "        mau *= j             # Mẫu số: (2i + 1)!\n",
    "    s += tu / mau            # Cộng từng phân số vào tổng\n",
    "print(\"s({0},{1}) = {2:.4f}\".format(x, n, s))"
   ]
  }
 ],
 "metadata": {
  "kernelspec": {
   "display_name": "Python 3",
   "language": "python",
   "name": "python3"
  },
  "language_info": {
   "codemirror_mode": {
    "name": "ipython",
    "version": 3
   },
   "file_extension": ".py",
   "mimetype": "text/x-python",
   "name": "python",
   "nbconvert_exporter": "python",
   "pygments_lexer": "ipython3",
   "version": "3.9.13"
  }
 },
 "nbformat": 4,
 "nbformat_minor": 5
}
